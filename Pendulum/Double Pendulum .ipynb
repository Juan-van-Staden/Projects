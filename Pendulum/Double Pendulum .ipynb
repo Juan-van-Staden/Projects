{
 "cells": [
  {
   "cell_type": "code",
   "execution_count": 1,
   "metadata": {},
   "outputs": [],
   "source": [
    "import numpy as np\n",
    "import sympy as sp\n",
    "from scipy.integrate import odeint\n",
    "import matplotlib.pyplot as plt\n",
    "from matplotlib import animation\n",
    "from mpl_toolkits.mplot3d import Axes3D\n",
    "from matplotlib.animation import PillowWriter"
   ]
  },
  {
   "cell_type": "code",
   "execution_count": 2,
   "metadata": {},
   "outputs": [],
   "source": [
    "# Define parameters symbolically\n",
    "t, g, m1, m2, L1, L2 = sp.symbols('t, g, m1, m2, L1, L2')"
   ]
  },
  {
   "cell_type": "code",
   "execution_count": 3,
   "metadata": {},
   "outputs": [],
   "source": [
    "# Define theta 1&2 as functions of parameters\n",
    "the1, the2 = sp.symbols(r'\\theta_1, \\theta_2', cls=sp.Function)\n",
    "# Define them as specific funcions of time\n",
    "the1 = the1(t)\n",
    "the2 = the2(t)"
   ]
  },
  {
   "cell_type": "code",
   "execution_count": 4,
   "metadata": {},
   "outputs": [],
   "source": [
    "# Define derivatives of theta\n",
    "the1_d  = sp.diff(the1, t)\n",
    "the2_d  = sp.diff(the2, t)\n",
    "the1_dd = sp.diff(the1_d, t)\n",
    "the2_dd = sp.diff(the2_d, t)"
   ]
  },
  {
   "cell_type": "code",
   "execution_count": 5,
   "metadata": {},
   "outputs": [],
   "source": [
    "# Define the cartisian coordinates of the masses\n",
    "x1 = L1*sp.sin(the1)\n",
    "x2 = L1*sp.sin(the1) +L2*sp.sin(the2)\n",
    "y1 = -L1*sp.cos(the1)\n",
    "y2 = -L1*sp.cos(the1) -L2*sp.cos(the2)"
   ]
  },
  {
   "cell_type": "code",
   "execution_count": 6,
   "metadata": {},
   "outputs": [],
   "source": [
    "# Define Kenetic energy of the system\n",
    "K1 = 0.5*m1*(sp.diff(x1,t)**2+sp.diff(y1,t)**2)\n",
    "K2 = 0.5*m2*(sp.diff(x2,t)**2+sp.diff(y2,t)**2)\n",
    "K = K1+K2\n",
    "# Define Potential energy of the system\n",
    "P1 = m1*g*y1\n",
    "P2 = m1*g*y2\n",
    "P = P1+P2\n",
    "# Define Lagrangian charachteristic of the system\n",
    "L = K-P"
   ]
  },
  {
   "cell_type": "code",
   "execution_count": 7,
   "metadata": {},
   "outputs": [],
   "source": [
    "# Getting Legrantian Equations\n",
    "LE1 = sp.diff(L, the1) - sp.diff(sp.diff(L, the1_d), t).simplify()\n",
    "LE2 = sp.diff(L, the2) - sp.diff(sp.diff(L, the2_d), t).simplify()\n",
    "# Solving for the Equations when they are = 0\n",
    "sols = sp.solve([LE1,LE2], (the1_dd, the2_dd), simplify=False, rational=False)"
   ]
  },
  {
   "cell_type": "code",
   "execution_count": 8,
   "metadata": {},
   "outputs": [],
   "source": [
    "# Define z=the_d to linearise the expression\n",
    "# Also makes the functions numerical\n",
    "dz1dt_f = sp.lambdify((t,g,m1,m2,L1,L2,the1,the2,the1_d,the2_d),sols[the1_dd]) #Derivative of z1 is the double derivative of theta1\n",
    "dz2dt_f = sp.lambdify((t,g,m1,m2,L1,L2,the1,the2,the1_d,the2_d),sols[the2_dd]) #Derivative of z2 is the double derivative of theta2\n",
    "dthe1dt_f = sp.lambdify(the1_d, the1_d) #Derivative of theta1 is the derivative of theta1\n",
    "dthe2dt_f = sp.lambdify(the2_d, the2_d) #Derivative of theta2 is the derivative of theta2"
   ]
  },
  {
   "cell_type": "code",
   "execution_count": 9,
   "metadata": {},
   "outputs": [],
   "source": [
    "# Define vector S + (the1, z1, the2, z2) and use its derivative\n",
    "def dSdt(S,t,g,m1,m2,L1,L2):\n",
    "    the1, z1, the2, z2 = S\n",
    "    return[dthe1dt_f(z1), \n",
    "           dz1dt_f(t,g,m1,m2,L1,L2,the1,the2,z1,z2),\n",
    "           dthe2dt_f(z2), \n",
    "           dz2dt_f(t,g,m1,m2,L1,L2,the1,the2,z1,z2)]"
   ]
  },
  {
   "cell_type": "code",
   "execution_count": 10,
   "metadata": {},
   "outputs": [],
   "source": [
    "# Solve the ODE between specific time steps\n",
    "t = np.linspace(0,40,1001) #25 FPS used for animation\n",
    "g = 9.81\n",
    "m1 = 1\n",
    "m2 = 1\n",
    "L1 = 1\n",
    "L2 = 1\n",
    "ans = odeint(dSdt, y0=[1,-3,-1,5], t=t, args=(g,m1,m2,L1,L1)) #y0 = [the1,z1,the2,z2] at initial conditions"
   ]
  },
  {
   "cell_type": "code",
   "execution_count": 11,
   "metadata": {},
   "outputs": [],
   "source": [
    "# Obtain theta 1&2 frim the answers\n",
    "the1 = ans.T[0]\n",
    "the2 = ans.T[2]"
   ]
  },
  {
   "cell_type": "code",
   "execution_count": 12,
   "metadata": {},
   "outputs": [],
   "source": [
    "# Gets cartisian coordinates from theta 1&2\n",
    "def get_x1y1x2y2(t,the1,the2,L1,L2):\n",
    "    x1 = L1*np.sin(the1)\n",
    "    y1 = -L1*np.cos(the1)\n",
    "    x2 = L1*np.sin(the1) +L2*np.sin(the2)\n",
    "    y2 = -L1*np.cos(the1) -L2*np.cos(the2)\n",
    "    return(x1,y1,x2,y2)\n",
    "x1,y1,x2,y2 = get_x1y1x2y2(t,ans.T[0],ans.T[2],L1,L2)"
   ]
  },
  {
   "cell_type": "code",
   "execution_count": 13,
   "metadata": {},
   "outputs": [
    {
     "data": {
      "image/png": "[encoded data removed]",
      "text/plain": [
       "<Figure size 576x576 with 1 Axes>"
      ]
     },
     "metadata": {},
     "output_type": "display_data"
    }
   ],
   "source": [
    "# Animate results\n",
    "def animate(i):\n",
    "    ln1.set_data([0,x1[i],x2[i]],[0,y1[i],y2[i]])\n",
    "\n",
    "fig,ax = plt.subplots(1,1,figsize=(8,8))\n",
    "ax.set_facecolor('w')\n",
    "ax.get_xaxis().set_ticks([]) #Removes x axis ticks\n",
    "ax.get_yaxis().set_ticks([]) #Removes y axis ticks\n",
    "ln1, = plt.plot([],[],'ro-', lw=3, markersize=8)\n",
    "# ln2, = ax.plot([],[],'ro', lw=3, markersize=8, alpha = 0.05, color ='cyan')\n",
    "# ln3, = ax.plot([],[],'ro', lw=3, markersize=8, alpha = 0.05, color ='cyan')\n",
    "ax.set_ylim(-4,4)\n",
    "ax.set_xlim(-4,4)\n",
    "ani = animation.FuncAnimation(fig, animate, frames=1000, interval=50)\n",
    "ani.save('pen.gif',writer='pillow', fps=25)"
   ]
  }
 ],
 "metadata": {
  "kernelspec": {
   "display_name": "Python 3",
   "language": "python",
   "name": "python3"
  },
  "language_info": {
   "codemirror_mode": {
    "name": "ipython",
    "version": 3
   },
   "file_extension": ".py",
   "mimetype": "text/x-python",
   "name": "python",
   "nbconvert_exporter": "python",
   "pygments_lexer": "ipython3",
   "version": "3.8.5"
  }
 },
 "nbformat": 4,
 "nbformat_minor": 4
}
